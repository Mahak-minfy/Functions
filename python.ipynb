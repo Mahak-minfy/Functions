{
 "cells": [
  {
   "cell_type": "code",
   "execution_count": 1,
   "id": "97e8e5d8",
   "metadata": {},
   "outputs": [
    {
     "name": "stdout",
     "output_type": "stream",
     "text": [
      "10\n",
      "12\n"
     ]
    }
   ],
   "source": [
    "# Closures\n",
    "def create_multiplier(n):\n",
    "    def multiplier(x):\n",
    "        return x * n\n",
    "    return multiplier\n",
    "# Example usage:\n",
    "double = create_multiplier(2)\n",
    "triple = create_multiplier(3)\n",
    "print(double(5))   # 10\n",
    "print(triple(4))   # 12"
   ]
  },
  {
   "cell_type": "code",
   "execution_count": 2,
   "id": "bb7cea29",
   "metadata": {},
   "outputs": [
    {
     "name": "stdout",
     "output_type": "stream",
     "text": [
      "60\n",
      "54.0\n",
      "67.5\n"
     ]
    }
   ],
   "source": [
    "# Variable arguments\n",
    "def calculate_total(*prices, discount=0):\n",
    "    total = sum(prices)\n",
    "    if discount:\n",
    "        total -= total * (discount / 100)\n",
    "    return total\n",
    "# Example usage:\n",
    "print(calculate_total(10, 20, 30))  # 60\n",
    "print(calculate_total(10, 20, 30, discount=10))  # 54\n",
    "print(calculate_total(50, 25, discount=10))  # 67.5"
   ]
  },
  {
   "cell_type": "code",
   "execution_count": 3,
   "id": "87822c37",
   "metadata": {},
   "outputs": [
    {
     "name": "stdout",
     "output_type": "stream",
     "text": [
      "Hello, Mahak!\n",
      "Hi, Bob!\n"
     ]
    }
   ],
   "source": [
    "\n",
    "# Default Parameters\n",
    "def greet_user(name, greeting=\"Hello\"):\n",
    "    return f\"{greeting}, {name}!\"\n",
    "# Example usage:\n",
    "print(greet_user(\"Mahak\")) # Hello, Mahak!\n",
    "print(greet_user(\"Bob\", \"Hi\")) # Hi, Bob!"
   ]
  },
  {
   "cell_type": "code",
   "execution_count": 4,
   "id": "3553264e",
   "metadata": {},
   "outputs": [
    {
     "name": "stdout",
     "output_type": "stream",
     "text": [
      "12.5\n",
      "0\n",
      "11.11111111111111\n"
     ]
    }
   ],
   "source": [
    "# Function Basics\n",
    "def calculate_average(numbers):\n",
    "    if not numbers:\n",
    "        return 0\n",
    "    return sum(numbers) / len(numbers)\n",
    "# Example usage:\n",
    "print(calculate_average([5, 10, 15, 20])) # 12.5\n",
    "print(calculate_average([]))  # Should return 0\n",
    "print(calculate_average([2,4,6,8,12,14,16,18,20])) # 11.111111111\n"
   ]
  }
 ],
 "metadata": {
  "kernelspec": {
   "display_name": "Python 3",
   "language": "python",
   "name": "python3"
  },
  "language_info": {
   "codemirror_mode": {
    "name": "ipython",
    "version": 3
   },
   "file_extension": ".py",
   "mimetype": "text/x-python",
   "name": "python",
   "nbconvert_exporter": "python",
   "pygments_lexer": "ipython3",
   "version": "3.11.4"
  }
 },
 "nbformat": 4,
 "nbformat_minor": 5
}
